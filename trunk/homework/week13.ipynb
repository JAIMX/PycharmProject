{
 "cells": [
  {
   "cell_type": "code",
   "execution_count": 59,
   "metadata": {
    "collapsed": true
   },
   "outputs": [],
   "source": [
    "from pandas import DataFrame\n",
    "import pandas as pd\n",
    "import numpy as np\n",
    "from sklearn.neighbors import KNeighborsClassifier\n",
    "from sklearn.metrics import precision_recall_curve\n",
    "from sklearn.metrics import classification_report\n",
    "from sklearn.naive_bayes import BernoulliNB\n",
    "from sklearn.feature_extraction.text import TfidfVectorizer\n",
    "from sklearn.cross_validation import train_test_split\n",
    "import matplotlib.pyplot as plt"
   ]
  },
  {
   "cell_type": "code",
   "execution_count": 60,
   "metadata": {
    "collapsed": true
   },
   "outputs": [],
   "source": [
    " my_data=[['slashdot','USA','yes',18,'None'], \n",
    "\n",
    "['google','France','yes',23,'Premium'], \n",
    "\n",
    "['digg','USA','yes',24,'Basic'], \n",
    "\n",
    "['kiwitobes','France','yes',23,'Basic'], \n",
    "\n",
    "['google','UK','no',21,'Premium'], \n",
    "\n",
    "['(direct)','New Zealand','no',12,'None'], \n",
    "\n",
    "['(direct)','UK','no',21,'Basic'], \n",
    "\n",
    "['google','USA','no',24,'Premium'], \n",
    "\n",
    "['slashdot','France','yes',19,'None'], \n",
    "\n",
    "['digg','USA','no',18,'None'], \n",
    "\n",
    "['google','UK','no',18,'None'], \n",
    "\n",
    "['kiwitobes','UK','no',19,'None'], \n",
    "\n",
    "['digg','New Zealand','yes',12,'Basic'], \n",
    "\n",
    "['slashdot','UK','no',21,'None'], \n",
    "\n",
    "['google','UK','yes',18,'Basic'], \n",
    "\n",
    "['kiwitobes','France','yes',19,'Basic']]\n",
    " \n",
    " "
   ]
  },
  {
   "cell_type": "code",
   "execution_count": 61,
   "metadata": {
    "collapsed": true
   },
   "outputs": [],
   "source": [
    "data=pd.DataFrame(my_data,columns=['from','area','faq','visits','service'])"
   ]
  },
  {
   "cell_type": "code",
   "execution_count": 62,
   "metadata": {
    "collapsed": true
   },
   "outputs": [],
   "source": [
    "# 将文字转化为数字\n",
    "col_from=pd.Categorical.from_array(data['from']) \n",
    "col_area=pd.Categorical.from_array(data['area'])\n",
    "col_faq=pd.Categorical.from_array(data['faq'])\n",
    "col_visits=pd.Categorical.from_array(data['visits'])\n",
    "col_service=pd.Categorical.from_array(data['service'])\n",
    "\n",
    "data['from']=col_from.codes\n",
    "data['area']=col_area.codes\n",
    "data['faq']=col_faq.codes\n",
    "data['visits']=col_visits.codes\n",
    "data['service']=col_service.codes\n"
   ]
  },
  {
   "cell_type": "code",
   "execution_count": 63,
   "metadata": {
    "collapsed": true
   },
   "outputs": [],
   "source": [
    "x=data.iloc[:,:4].as_matrix().astype(int)\n",
    "y=data.iloc[:,4].as_matrix().astype(int)"
   ]
  },
  {
   "cell_type": "code",
   "execution_count": 64,
   "metadata": {
    "collapsed": true
   },
   "outputs": [],
   "source": [
    "#拆分训练数据与测试数据 \n",
    "x_train, x_test, y_train, y_test = train_test_split(x, y, test_size = 0.6)"
   ]
  },
  {
   "cell_type": "code",
   "execution_count": 65,
   "metadata": {
    "collapsed": false
   },
   "outputs": [
    {
     "data": {
      "text/plain": [
       "KNeighborsClassifier(algorithm='kd_tree', leaf_size=30, metric='minkowski',\n",
       "           metric_params=None, n_jobs=1, n_neighbors=5, p=2,\n",
       "           weights='uniform')"
      ]
     },
     "execution_count": 65,
     "metadata": {},
     "output_type": "execute_result"
    }
   ],
   "source": [
    "####knn最邻近算法####\n",
    "#训练KNN分类器 \n",
    "clf = KNeighborsClassifier(algorithm='kd_tree')\n",
    "clf.fit(x_train, y_train)"
   ]
  },
  {
   "cell_type": "code",
   "execution_count": 51,
   "metadata": {
    "collapsed": false
   },
   "outputs": [
    {
     "name": "stdout",
     "output_type": "stream",
     "text": [
      "[[0 2 0 3]\n",
      " [4 3 1 1]\n",
      " [2 2 0 1]\n",
      " [3 0 1 4]]\n",
      "[0 1 0 1]\n",
      "[0 1 1 0]\n",
      "KNN分类器模型准确率 0.5\n",
      "             precision    recall  f1-score   support\n",
      "\n",
      "          0       0.50      0.50      0.50         2\n",
      "          1       0.50      0.50      0.50         2\n",
      "\n",
      "avg / total       0.50      0.50      0.50         4\n",
      "\n"
     ]
    }
   ],
   "source": [
    "#测试结果\n",
    "answer = clf.predict(x_test)\n",
    "print(x_test)\n",
    "print(answer)\n",
    "print(y_test)\n",
    "print 'KNN分类器模型准确率',(np.mean( answer == y_test))\n",
    "print classification_report(y_test,answer)"
   ]
  },
  {
   "cell_type": "code",
   "execution_count": 52,
   "metadata": {
    "collapsed": false
   },
   "outputs": [
    {
     "name": "stdout",
     "output_type": "stream",
     "text": [
      "[[0 2 0 3]\n",
      " [4 3 1 1]\n",
      " [2 2 0 1]\n",
      " [3 0 1 4]]\n",
      "[1 0 1 0]\n",
      "[0 1 1 0]\n",
      "0.5\n",
      "             precision    recall  f1-score   support\n",
      "\n",
      "        低       0.50      0.50      0.50         2\n",
      "        高       0.50      0.50      0.50         2\n",
      "\n",
      "avg / total       0.50      0.50      0.50         4\n",
      "\n"
     ]
    }
   ],
   "source": [
    "####贝叶斯分类器####\n",
    "#训练贝叶斯分类器\n",
    "clf = BernoulliNB() \n",
    "clf.fit(x_train,y_train)\n",
    "\n",
    "\n",
    "#测试结果\n",
    "answer = clf.predict(x_test)\n",
    "print(x_test)\n",
    "print(answer)\n",
    "print(y_test)\n",
    "print(np.mean( answer == y_test))\n",
    "print(classification_report(y_test, answer, target_names = ['低', '高']))"
   ]
  },
  {
   "cell_type": "code",
   "execution_count": 56,
   "metadata": {
    "collapsed": false
   },
   "outputs": [
    {
     "name": "stdout",
     "output_type": "stream",
     "text": [
      "[[0 2 0 3]\n",
      " [4 3 1 1]\n",
      " [2 2 0 1]\n",
      " [3 0 1 4]]\n",
      "[2 1 1 2]\n",
      "[0 1 1 0]\n",
      "0.5\n",
      "             precision    recall  f1-score   support\n",
      "\n",
      "          0       0.00      0.00      0.00         2\n",
      "          1       1.00      1.00      1.00         2\n",
      "          2       0.00      0.00      0.00         0\n",
      "\n",
      "avg / total       0.50      0.50      0.50         4\n",
      "\n"
     ]
    }
   ],
   "source": [
    "####决策树####\n",
    "from sklearn.tree import DecisionTreeClassifier as DTC\n",
    "dtc = DTC(criterion='entropy') #建立决策树模型，基于信息熵\n",
    "dtc.fit(x_train, y_train) #训练模型\n",
    "\n",
    "#导入相关函数，可视化决策树。\n",
    "#导出的结果是一个dot文件，需要安装Graphviz才能将它转换为pdf或png等格式。\n",
    "from sklearn.tree import export_graphviz\n",
    "from sklearn.externals.six import StringIO\n",
    "with open(\"tree.dot\", 'w') as f:\n",
    "  f = export_graphviz(dtc, out_file = f)\n",
    "\n",
    "\n",
    "#测试结果\n",
    "answer = dtc.predict(x_test)\n",
    "print(x_test)\n",
    "print(answer)\n",
    "print(y_test)\n",
    "print(np.mean( answer == y_test))\n",
    "print(classification_report(y_test, answer))"
   ]
  },
  {
   "cell_type": "code",
   "execution_count": 58,
   "metadata": {
    "collapsed": false
   },
   "outputs": [
    {
     "name": "stdout",
     "output_type": "stream",
     "text": [
      "[[0 2 0 3]\n",
      " [4 3 1 1]\n",
      " [2 2 0 1]\n",
      " [3 0 1 4]]\n",
      "[1 1 1 2]\n",
      "[0 1 1 0]\n",
      "0.5\n",
      "             precision    recall  f1-score   support\n",
      "\n",
      "          0       0.00      0.00      0.00         2\n",
      "          1       0.67      1.00      0.80         2\n",
      "          2       0.00      0.00      0.00         0\n",
      "\n",
      "avg / total       0.33      0.50      0.40         4\n",
      "\n"
     ]
    }
   ],
   "source": [
    "####SVM####\n",
    "from sklearn.svm import SVC\n",
    "clf =SVC()\n",
    "clf.fit(x_train, y_train)  \n",
    "\n",
    "#测试结果\n",
    "answer = clf.predict(x_test)\n",
    "print(x_test)\n",
    "print(answer)\n",
    "print(y_test)\n",
    "print(np.mean( answer == y_test))\n",
    "print(classification_report(y_test, answer))"
   ]
  },
  {
   "cell_type": "code",
   "execution_count": null,
   "metadata": {
    "collapsed": true
   },
   "outputs": [],
   "source": []
  }
 ],
 "metadata": {
  "anaconda-cloud": {},
  "kernelspec": {
   "display_name": "Python [Root]",
   "language": "python",
   "name": "Python [Root]"
  },
  "language_info": {
   "codemirror_mode": {
    "name": "ipython",
    "version": 2
   },
   "file_extension": ".py",
   "mimetype": "text/x-python",
   "name": "python",
   "nbconvert_exporter": "python",
   "pygments_lexer": "ipython2",
   "version": "2.7.12"
  }
 },
 "nbformat": 4,
 "nbformat_minor": 0
}
