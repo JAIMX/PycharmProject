{
 "cells": [
  {
   "cell_type": "code",
   "execution_count": 1,
   "metadata": {
    "collapsed": false,
    "scrolled": true
   },
   "outputs": [],
   "source": [
    "#读入数据\n",
    "import pandas as pd;\n",
    "data_all=pd.read_csv('stock_px.csv',parse_dates=True,index_col=0);\n",
    "data=data_all[['AAPL','MSFT','XOM']]"
   ]
  },
  {
   "cell_type": "code",
   "execution_count": 2,
   "metadata": {
    "collapsed": true
   },
   "outputs": [],
   "source": [
    "#时序图\n",
    "import matplotlib.pyplot as plt;\n",
    "#plt.rcParams['font.sans-serif'] = ['SimHei'] #用来正常显示中文标签\n",
    "#plt.rcParams['axes.unicode_minus'] = False #用来正常显示负号\n",
    "data.plot()\n",
    "plt.show()"
   ]
  },
  {
   "cell_type": "code",
   "execution_count": 4,
   "metadata": {
    "collapsed": false
   },
   "outputs": [],
   "source": [
    "\n",
    "#自相关图\n",
    "from statsmodels.graphics.tsaplots import plot_acf\n",
    "#plot_acf(data['AAPL'].iloc[:10]).show()\n"
   ]
  },
  {
   "cell_type": "code",
   "execution_count": null,
   "metadata": {
    "collapsed": false
   },
   "outputs": [
    {
     "name": "stdout",
     "output_type": "stream",
     "text": [
      "(1.5777198065520504, 0.99778916977341114, 10L, 2203L, {'5%': -2.8628528598160963, '1%': -3.4333218274973816, '10%': -2.5674688992643837}, 11344.462171852701)\n"
     ]
    }
   ],
   "source": [
    "#平稳性检测\n",
    "from statsmodels.tsa.stattools import adfuller as ADF\n",
    "print( ADF(data['AAPL']))\n",
    "#返回值依次为adf、pvalue、usedlag、nobs、critical values、icbest、regresults、resstore"
   ]
  },
  {
   "cell_type": "code",
   "execution_count": 3,
   "metadata": {
    "collapsed": false
   },
   "outputs": [],
   "source": [
    "#差分后的结果\n",
    "D_data = data.diff().dropna()\n",
    "D_data.columns = ['AAPL','MSFT','XOM']\n",
    "D_data.plot() #时序图\n",
    "plt.show()\n",
    "#plot_acf(D_data['AAPL']).show() #自相关图\n"
   ]
  },
  {
   "cell_type": "code",
   "execution_count": null,
   "metadata": {
    "collapsed": true
   },
   "outputs": [],
   "source": [
    "from statsmodels.graphics.tsaplots import plot_pacf\n",
    "plot_pacf(D_data['AAPL']).show() #偏自相关图\n",
    "print(ADF(D_data['AAPL']))#平稳性检测"
   ]
  },
  {
   "cell_type": "code",
   "execution_count": null,
   "metadata": {
    "collapsed": true
   },
   "outputs": [],
   "source": []
  }
 ],
 "metadata": {
  "anaconda-cloud": {},
  "kernelspec": {
   "display_name": "Python [Root]",
   "language": "python",
   "name": "Python [Root]"
  },
  "language_info": {
   "codemirror_mode": {
    "name": "ipython",
    "version": 2
   },
   "file_extension": ".py",
   "mimetype": "text/x-python",
   "name": "python",
   "nbconvert_exporter": "python",
   "pygments_lexer": "ipython2",
   "version": "2.7.12"
  }
 },
 "nbformat": 4,
 "nbformat_minor": 0
}
