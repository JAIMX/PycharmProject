{
 "cells": [
  {
   "cell_type": "code",
   "execution_count": 96,
   "metadata": {
    "collapsed": false
   },
   "outputs": [],
   "source": [
    "#ex15.txt 记录了进口总额Y与三个自变量：国内生产总值X1、存储量X2、总消费X3 的值。 先对自变量进行主成分法分析，然后将得到的主成分与Y进行回归分析。\n",
    "#试比较与直接进行回归分析所得到的结果差异，说说哪个模型的拟合效果比较好"
   ]
  },
  {
   "cell_type": "code",
   "execution_count": 97,
   "metadata": {
    "collapsed": true
   },
   "outputs": [],
   "source": [
    "import pandas as pd\n",
    "from sklearn.decomposition import PCA \n",
    "from sklearn.linear_model import LinearRegression \n",
    "from sklearn import metrics \n",
    "import numpy as np\n",
    "import matplotlib.pyplot as plt"
   ]
  },
  {
   "cell_type": "code",
   "execution_count": 98,
   "metadata": {
    "collapsed": false
   },
   "outputs": [],
   "source": [
    "data=pd.read_table('ex15.txt',sep='\\s+')\n",
    "x=data.iloc[:,0:3];\n",
    "y=data['y']\n"
   ]
  },
  {
   "cell_type": "code",
   "execution_count": 99,
   "metadata": {
    "collapsed": false
   },
   "outputs": [
    {
     "name": "stdout",
     "output_type": "stream",
     "text": [
      "[ 0.99676249  0.00209367  0.00114384]\n"
     ]
    }
   ],
   "source": [
    "#主成分分析 \n",
    "pca=PCA()\n",
    "pca.fit(x)\n",
    "print pca.explained_variance_ratio_"
   ]
  },
  {
   "cell_type": "code",
   "execution_count": 100,
   "metadata": {
    "collapsed": false
   },
   "outputs": [],
   "source": [
    "pca=PCA(n_components=1)\n",
    "reduced_x=pca.fit_transform(x)"
   ]
  },
  {
   "cell_type": "code",
   "execution_count": 101,
   "metadata": {
    "collapsed": false
   },
   "outputs": [
    {
     "name": "stdout",
     "output_type": "stream",
     "text": [
      "21.8909090909\n",
      "[ 0.12086575]\n"
     ]
    }
   ],
   "source": [
    "linreg1 = LinearRegression() \n",
    "linreg1.fit(reduced_x, y) \n",
    "print linreg1.intercept_ \n",
    "print linreg1.coef_ "
   ]
  },
  {
   "cell_type": "code",
   "execution_count": 102,
   "metadata": {
    "collapsed": false
   },
   "outputs": [
    {
     "name": "stdout",
     "output_type": "stream",
     "text": [
      "MAE: 0.893685942093\n",
      "MSE: 1.18250315042\n",
      "RMSE: 1.08742960711\n"
     ]
    },
    {
     "data": {
      "text/plain": [
       "0.93699398434083836"
      ]
     },
     "execution_count": 102,
     "metadata": {},
     "output_type": "execute_result"
    }
   ],
   "source": [
    "y_pred1 = linreg1.predict(reduced_x) \n",
    "print \"MAE:\",metrics.mean_absolute_error(y,y_pred1) \n",
    "print \"MSE:\",metrics.mean_squared_error(y,y_pred1) \n",
    "print \"RMSE:\",np.sqrt(metrics.mean_squared_error(y,y_pred1)) \n",
    "\n",
    "linreg1.score(reduced_x,y)"
   ]
  },
  {
   "cell_type": "code",
   "execution_count": 103,
   "metadata": {
    "collapsed": false
   },
   "outputs": [
    {
     "name": "stdout",
     "output_type": "stream",
     "text": [
      "-10.1279881552\n",
      "[-0.05139616  0.58694904  0.28684868]\n",
      "MAE: 0.323389955272\n",
      "MSE: 0.152086314666\n",
      "RMSE: 0.389982454306\n"
     ]
    }
   ],
   "source": [
    "#多元线性回归分析 \n",
    "linreg = LinearRegression() \n",
    "linreg.fit(x, y) \n",
    "print linreg.intercept_ \n",
    "print linreg.coef_ \n",
    "y_pred2= linreg.predict(x) \n",
    "#误差评估 \n",
    "print \"MAE:\",metrics.mean_absolute_error(y,y_pred2) \n",
    "print \"MSE:\",metrics.mean_squared_error(y,y_pred2) \n",
    "print \"RMSE:\",np.sqrt(metrics.mean_squared_error(y,y_pred2)) "
   ]
  },
  {
   "cell_type": "code",
   "execution_count": 104,
   "metadata": {
    "collapsed": false
   },
   "outputs": [
    {
     "data": {
      "image/png": "[encoded data removed]",
      "text/plain": [
       "<matplotlib.figure.Figure at 0xbf41978>"
      ]
     },
     "metadata": {},
     "output_type": "display_data"
    }
   ],
   "source": [
    "k=range(1,12) \n",
    "%matplotlib inline \n",
    "plt.scatter(k, y, c='r', marker='x') \n",
    "plt.scatter(k, y_pred1, c='b', marker='D') \n",
    "plt.scatter(k, y_pred2, c='g', marker='.') \n",
    "plt.show()"
   ]
  },
  {
   "cell_type": "code",
   "execution_count": null,
   "metadata": {
    "collapsed": true
   },
   "outputs": [],
   "source": []
  }
 ],
 "metadata": {
  "kernelspec": {
   "display_name": "Python [Root]",
   "language": "python",
   "name": "Python [Root]"
  },
  "language_info": {
   "codemirror_mode": {
    "name": "ipython",
    "version": 2
   },
   "file_extension": ".py",
   "mimetype": "text/x-python",
   "name": "python",
   "nbconvert_exporter": "python",
   "pygments_lexer": "ipython2",
   "version": "2.7.12"
  }
 },
 "nbformat": 4,
 "nbformat_minor": 0
}
